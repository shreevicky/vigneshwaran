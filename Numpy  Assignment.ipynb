{
 "cells": [
  {
   "cell_type": "markdown",
   "id": "de292e7c",
   "metadata": {},
   "source": [
    "## 1. Create a null vector of size 10 but the fifth value which is 1"
   ]
  },
  {
   "cell_type": "code",
   "execution_count": 1,
   "id": "996006cf",
   "metadata": {},
   "outputs": [
    {
     "data": {
      "text/plain": [
       "array([0., 0., 0., 0., 1., 0., 0., 0., 0., 0.])"
      ]
     },
     "execution_count": 1,
     "metadata": {},
     "output_type": "execute_result"
    }
   ],
   "source": [
    "import numpy as np\n",
    "null = np.zeros(10)\n",
    "null[4] = 1\n",
    "null"
   ]
  },
  {
   "cell_type": "markdown",
   "id": "f63954b5",
   "metadata": {},
   "source": [
    "## 2. Create a vector with values ranging from 10 to 49."
   ]
  },
  {
   "cell_type": "code",
   "execution_count": 3,
   "id": "f99a5ae9",
   "metadata": {},
   "outputs": [
    {
     "data": {
      "text/plain": [
       "array([10, 11, 12, 13, 14, 15, 16, 17, 18, 19, 20, 21, 22, 23, 24, 25, 26,\n",
       "       27, 28, 29, 30, 31, 32, 33, 34, 35, 36, 37, 38, 39, 40, 41, 42, 43,\n",
       "       44, 45, 46, 47, 48, 49])"
      ]
     },
     "execution_count": 3,
     "metadata": {},
     "output_type": "execute_result"
    }
   ],
   "source": [
    "np.arange(10,50)"
   ]
  },
  {
   "cell_type": "markdown",
   "id": "7b00d09a",
   "metadata": {},
   "source": [
    "## 3. Create a 3x3 matrix with values ranging from 0 to 8"
   ]
  },
  {
   "cell_type": "code",
   "execution_count": 4,
   "id": "e0803db0",
   "metadata": {},
   "outputs": [
    {
     "data": {
      "text/plain": [
       "array([[0, 1, 2],\n",
       "       [3, 4, 5],\n",
       "       [6, 7, 8]])"
      ]
     },
     "execution_count": 4,
     "metadata": {},
     "output_type": "execute_result"
    }
   ],
   "source": [
    "matrix = np.arange(0,9)\n",
    "matrix .reshape(3,3)"
   ]
  },
  {
   "cell_type": "markdown",
   "id": "8df9284b",
   "metadata": {},
   "source": [
    "## 4. Find indices of non-zero elements from [1,2,0,0,4,0]"
   ]
  },
  {
   "cell_type": "code",
   "execution_count": 5,
   "id": "6c84265f",
   "metadata": {},
   "outputs": [
    {
     "data": {
      "text/plain": [
       "(array([0, 1, 4], dtype=int64),)"
      ]
     },
     "execution_count": 5,
     "metadata": {},
     "output_type": "execute_result"
    }
   ],
   "source": [
    "array = np.array([1,2,0,0,4,0])\n",
    "np.nonzero(array)"
   ]
  },
  {
   "cell_type": "markdown",
   "id": "7aeed73e",
   "metadata": {},
   "source": [
    "## 5. Create a 10x10 array with random values and find the minimum and maximum values."
   ]
  },
  {
   "cell_type": "code",
   "execution_count": 7,
   "id": "252bcc6e",
   "metadata": {},
   "outputs": [
    {
     "name": "stdout",
     "output_type": "stream",
     "text": [
      "[[0.37733365 0.51709669 0.05354886 0.43686931 0.14167573 0.7267741\n",
      "  0.63311304 0.83379587 0.94760964 0.01560271]\n",
      " [0.15943543 0.40281834 0.4269547  0.88098377 0.23941701 0.89018234\n",
      "  0.48155017 0.00616316 0.95460008 0.92495155]\n",
      " [0.42297023 0.84847054 0.77569962 0.15564543 0.9039857  0.8780154\n",
      "  0.8487104  0.64236285 0.28072213 0.47589584]\n",
      " [0.08756867 0.13168989 0.2543299  0.24733803 0.94500576 0.26691237\n",
      "  0.5854412  0.74681299 0.31905399 0.15442844]\n",
      " [0.08871779 0.43562753 0.69798846 0.8375329  0.64747944 0.73282585\n",
      "  0.45798609 0.37906689 0.53697123 0.70746728]\n",
      " [0.46161355 0.8095659  0.08932425 0.59504584 0.31226617 0.87358596\n",
      "  0.36291152 0.00843609 0.33110434 0.17115655]\n",
      " [0.63137153 0.88785808 0.97980617 0.8612494  0.28150607 0.99726076\n",
      "  0.78024654 0.13630351 0.38188767 0.13558668]\n",
      " [0.84413499 0.52808706 0.09582013 0.91890042 0.65464975 0.65566097\n",
      "  0.51127118 0.71740477 0.94094572 0.18541422]\n",
      " [0.36906741 0.70979417 0.48358149 0.98244035 0.7906496  0.40821067\n",
      "  0.91770986 0.60434181 0.95149322 0.66185943]\n",
      " [0.17529022 0.69999424 0.69643547 0.77658854 0.08947875 0.63348346\n",
      "  0.48731902 0.34483559 0.8966198  0.02509467]]\n",
      "0.00616316067447964\n",
      "0.9972607624073371\n"
     ]
    }
   ],
   "source": [
    "array_ten = np.random.random((10,10))\n",
    "print(array_ten)\n",
    "print(np.min(array_ten))\n",
    "print(np.max(array_ten))"
   ]
  },
  {
   "cell_type": "markdown",
   "id": "78828d3f",
   "metadata": {},
   "source": [
    "## 6. Create a random vector of size 30 and find the mean value.\n"
   ]
  },
  {
   "cell_type": "code",
   "execution_count": 8,
   "id": "563828a0",
   "metadata": {},
   "outputs": [
    {
     "data": {
      "text/plain": [
       "0.5678602702087511"
      ]
     },
     "execution_count": 8,
     "metadata": {},
     "output_type": "execute_result"
    }
   ],
   "source": [
    "vector = np.random.random((5,6))\n",
    "np.mean(vector)"
   ]
  },
  {
   "cell_type": "code",
   "execution_count": null,
   "id": "71aa8284",
   "metadata": {},
   "outputs": [],
   "source": []
  }
 ],
 "metadata": {
  "kernelspec": {
   "display_name": "Python 3 (ipykernel)",
   "language": "python",
   "name": "python3"
  },
  "language_info": {
   "codemirror_mode": {
    "name": "ipython",
    "version": 3
   },
   "file_extension": ".py",
   "mimetype": "text/x-python",
   "name": "python",
   "nbconvert_exporter": "python",
   "pygments_lexer": "ipython3",
   "version": "3.11.3"
  }
 },
 "nbformat": 4,
 "nbformat_minor": 5
}
